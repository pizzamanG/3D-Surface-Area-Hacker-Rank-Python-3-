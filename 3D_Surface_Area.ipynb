{
 "cells": [
  {
   "cell_type": "code",
   "execution_count": 1,
   "metadata": {},
   "outputs": [],
   "source": [
    "def surfaceArea(A):\n",
    "  t = [[row[i] for row in input] for i in range(len(input[0]))]\n",
    "  surface_area = 0\n",
    "  edge = 0\n",
    "  other_area = 0\n",
    "  \n",
    "  for i in A:\n",
    "    for j in i:\n",
    "      if j >0:\n",
    "        surface_area += 2\n",
    "  for i in A:\n",
    "    edge += i[0]\n",
    "    edge += i[-1]\n",
    "  for i in t:\n",
    "    edge += i[0]\n",
    "    edge += i[-1]\n",
    "  \n",
    "  for i in A:\n",
    "    for j in range(1,len(A[0])):\n",
    "      if (i[j] - i[j-1]) <1:\n",
    "        continue\n",
    "      else:\n",
    "        other_area+=(i[j] - i[j-1])\n",
    "\n",
    "  for i in t:\n",
    "    for j in range(1,len(t[0])):\n",
    "      if (i[j] - i[j-1]) <1:\n",
    "        continue\n",
    "      else:\n",
    "        other_area+=(i[j] - i[j-1])\n",
    "  for i in A:\n",
    "    for j in range((len(A[0])-2),-1,-1):\n",
    "      if (i[j] - i[j+1]) <1 :\n",
    "        continue\n",
    "      else:\n",
    "        other_area+=(i[j] - i[j+1])\n",
    "\n",
    "  for i in t:\n",
    "    for j in range((len(t[0])-2),-1,-1):\n",
    "      if (i[j] - i[j+1]) <1 :\n",
    "        continue\n",
    "      \n",
    "      else:\n",
    "        other_area+=(i[j] - i[j+1])\n",
    "  total_area = other_area +surface_area + edge\n",
    "  return total_area\n"
   ]
  }
 ],
 "metadata": {
  "kernelspec": {
   "display_name": "Python 3",
   "language": "python",
   "name": "python3"
  },
  "language_info": {
   "codemirror_mode": {
    "name": "ipython",
    "version": 3
   },
   "file_extension": ".py",
   "mimetype": "text/x-python",
   "name": "python",
   "nbconvert_exporter": "python",
   "pygments_lexer": "ipython3",
   "version": "3.7.3"
  }
 },
 "nbformat": 4,
 "nbformat_minor": 2
}
