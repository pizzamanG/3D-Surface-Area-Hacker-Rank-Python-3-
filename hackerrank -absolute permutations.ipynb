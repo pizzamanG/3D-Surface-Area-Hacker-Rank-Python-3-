{
  "nbformat": 4,
  "nbformat_minor": 0,
  "metadata": {
    "colab": {
      "name": "Untitled56.ipynb",
      "provenance": [],
      "authorship_tag": "ABX9TyPpHk+FLcaLe1ONWEvHUrW1",
      "include_colab_link": true
    },
    "kernelspec": {
      "name": "python3",
      "display_name": "Python 3"
    }
  },
  "cells": [
    {
      "cell_type": "markdown",
      "metadata": {
        "id": "view-in-github",
        "colab_type": "text"
      },
      "source": [
        "<a href=\"https://colab.research.google.com/github/pizzamanG/3D-Surface-Area-Hacker-Rank-Python-3-/blob/master/hackerrank%20-absolute%20permutations.ipynb\" target=\"_parent\"><img src=\"https://colab.research.google.com/assets/colab-badge.svg\" alt=\"Open In Colab\"/></a>"
      ]
    },
    {
      "cell_type": "code",
      "metadata": {
        "id": "dT7NamYAPKuh",
        "colab_type": "code",
        "colab": {}
      },
      "source": [
        "def absolutePermutation(n, k):\n",
        "    p = []\n",
        "    if (k ==0):\n",
        "        return [i for i in range(1, n+1)]\n",
        "    elif n % k != 0:\n",
        "        return [-1]\n",
        "    elif n < 4 and k ==1:\n",
        "      return [i for i in range (n,0, -1)]\n",
        "    \n",
        "    else:\n",
        "        \n",
        "        for i in range(1,n,2*k):\n",
        "            p.append([j for j in range(i+k,(i+k)+k)]+[j for j in range(i,i+k)])\n",
        "        \n",
        "    \n",
        "        flattened_list = [y for x in p for y in x]\n",
        "        \n",
        "        \n",
        "        if len( flattened_list) == n:\n",
        "          return flattened_list\n",
        "        else:\n",
        "          return [-1]\n"
      ],
      "execution_count": 0,
      "outputs": []
    }
  ]
}